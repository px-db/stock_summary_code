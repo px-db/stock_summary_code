{
 "cells": [
  {
   "cell_type": "markdown",
   "metadata": {},
   "source": [
    "# Library"
   ]
  },
  {
   "cell_type": "code",
   "execution_count": 1,
   "metadata": {},
   "outputs": [],
   "source": [
    "import pandas as pd # v 1.1.5\n",
    "import os"
   ]
  },
  {
   "cell_type": "markdown",
   "metadata": {},
   "source": [
    "# Scan direktori `download`\n",
    "Download terlebih dahulu file `stock_summary` dari [link ini](https://www.idx.co.id/en/market-data/trading-summary/stock-summary) dan simpan kedalam direktori 'download."
   ]
  },
  {
   "cell_type": "code",
   "execution_count": 56,
   "metadata": {},
   "outputs": [],
   "source": [
    "class Converter_SS :\n",
    "  '''\n",
    "  Converter Stock Summary\n",
    "  '''\n",
    "  local_dir = 'download/'\n",
    "  file_dl = []\n",
    "  save_to = '../stock_summary_idx/full_col/'\n",
    "  def __init__(self,dir:str=local_dir):\n",
    "    for f in os.listdir(os.path.join(dir)):\n",
    "      self.file_dl.append(f)\n",
    "  def convert_xslx_to_csv(self):\n",
    "    for file in self.file_dl :\n",
    "      pd.read_excel(\n",
    "        os.path.join(self.local_dir,file)).to_csv(\n",
    "         os.path.join(self.save_to,\n",
    "                      f'{file[14:18]}',\n",
    "                      f'stock_summary_{file[14:22]}.csv'),\n",
    "                     index=False)\n",
    "      print(os.path.join(self.save_to,\n",
    "                         f'{file[14:18]}',\n",
    "                         f'stock_summary_{file[14:22]}.csv sudah disimpan'))\n",
    "    return self"
   ]
  },
  {
   "cell_type": "code",
   "execution_count": 57,
   "metadata": {},
   "outputs": [
    {
     "name": "stdout",
     "output_type": "stream",
     "text": [
      "../stock_summary_idx/full_col/2024/stock_summary_20240206.csv sudah disimpan\n",
      "../stock_summary_idx/full_col/2024/stock_summary_20240207.csv sudah disimpan\n",
      "../stock_summary_idx/full_col/2024/stock_summary_20240212.csv sudah disimpan\n",
      "../stock_summary_idx/full_col/2024/stock_summary_20240213.csv sudah disimpan\n",
      "../stock_summary_idx/full_col/2024/stock_summary_20240215.csv sudah disimpan\n",
      "../stock_summary_idx/full_col/2024/stock_summary_20240216.csv sudah disimpan\n",
      "../stock_summary_idx/full_col/2024/stock_summary_20240219.csv sudah disimpan\n",
      "../stock_summary_idx/full_col/2024/stock_summary_20240220.csv sudah disimpan\n",
      "../stock_summary_idx/full_col/2024/stock_summary_20240221.csv sudah disimpan\n",
      "../stock_summary_idx/full_col/2024/stock_summary_20240222.csv sudah disimpan\n"
     ]
    },
    {
     "data": {
      "text/plain": [
       "<__main__.Scan_File_Download at 0x7f0417e67c40>"
      ]
     },
     "execution_count": 57,
     "metadata": {},
     "output_type": "execute_result"
    }
   ],
   "source": [
    "Converter_SS().convert_xslx_to_csv()"
   ]
  },
  {
   "cell_type": "markdown",
   "metadata": {},
   "source": [
    "# IDX Calendar"
   ]
  },
  {
   "cell_type": "code",
   "execution_count": 2,
   "metadata": {},
   "outputs": [],
   "source": [
    "from IDX_Calendar import IDX_Calendar"
   ]
  },
  {
   "cell_type": "code",
   "execution_count": 3,
   "metadata": {},
   "outputs": [
    {
     "data": {
      "text/plain": [
       "<IDX_Calendar.IDX_Calendar at 0x7f9ee6455c70>"
      ]
     },
     "execution_count": 3,
     "metadata": {},
     "output_type": "execute_result"
    }
   ],
   "source": [
    "cal = IDX_Calendar()\n",
    "cal.scan_calendar()"
   ]
  },
  {
   "cell_type": "code",
   "execution_count": 4,
   "metadata": {},
   "outputs": [
    {
     "data": {
      "text/html": [
       "<div>\n",
       "<style scoped>\n",
       "    .dataframe tbody tr th:only-of-type {\n",
       "        vertical-align: middle;\n",
       "    }\n",
       "\n",
       "    .dataframe tbody tr th {\n",
       "        vertical-align: top;\n",
       "    }\n",
       "\n",
       "    .dataframe thead th {\n",
       "        text-align: right;\n",
       "    }\n",
       "</style>\n",
       "<table border=\"1\" class=\"dataframe\">\n",
       "  <thead>\n",
       "    <tr style=\"text-align: right;\">\n",
       "      <th></th>\n",
       "      <th>kalender</th>\n",
       "      <th>jumlah emiten</th>\n",
       "    </tr>\n",
       "  </thead>\n",
       "  <tbody>\n",
       "    <tr>\n",
       "      <th>0</th>\n",
       "      <td>20190102</td>\n",
       "      <td>622</td>\n",
       "    </tr>\n",
       "    <tr>\n",
       "      <th>1</th>\n",
       "      <td>20190103</td>\n",
       "      <td>622</td>\n",
       "    </tr>\n",
       "    <tr>\n",
       "      <th>2</th>\n",
       "      <td>20190104</td>\n",
       "      <td>622</td>\n",
       "    </tr>\n",
       "    <tr>\n",
       "      <th>3</th>\n",
       "      <td>20190107</td>\n",
       "      <td>622</td>\n",
       "    </tr>\n",
       "    <tr>\n",
       "      <th>4</th>\n",
       "      <td>20190108</td>\n",
       "      <td>623</td>\n",
       "    </tr>\n",
       "    <tr>\n",
       "      <th>...</th>\n",
       "      <td>...</td>\n",
       "      <td>...</td>\n",
       "    </tr>\n",
       "    <tr>\n",
       "      <th>1249</th>\n",
       "      <td>20240216</td>\n",
       "      <td>923</td>\n",
       "    </tr>\n",
       "    <tr>\n",
       "      <th>1250</th>\n",
       "      <td>20240219</td>\n",
       "      <td>923</td>\n",
       "    </tr>\n",
       "    <tr>\n",
       "      <th>1251</th>\n",
       "      <td>20240220</td>\n",
       "      <td>923</td>\n",
       "    </tr>\n",
       "    <tr>\n",
       "      <th>1252</th>\n",
       "      <td>20240221</td>\n",
       "      <td>923</td>\n",
       "    </tr>\n",
       "    <tr>\n",
       "      <th>1253</th>\n",
       "      <td>20240222</td>\n",
       "      <td>923</td>\n",
       "    </tr>\n",
       "  </tbody>\n",
       "</table>\n",
       "<p>1254 rows × 2 columns</p>\n",
       "</div>"
      ],
      "text/plain": [
       "      kalender  jumlah emiten\n",
       "0     20190102            622\n",
       "1     20190103            622\n",
       "2     20190104            622\n",
       "3     20190107            622\n",
       "4     20190108            623\n",
       "...        ...            ...\n",
       "1249  20240216            923\n",
       "1250  20240219            923\n",
       "1251  20240220            923\n",
       "1252  20240221            923\n",
       "1253  20240222            923\n",
       "\n",
       "[1254 rows x 2 columns]"
      ]
     },
     "execution_count": 4,
     "metadata": {},
     "output_type": "execute_result"
    }
   ],
   "source": [
    "cal.df_calendar"
   ]
  },
  {
   "cell_type": "markdown",
   "metadata": {},
   "source": [
    "# Update File `kalender_market_idx.csv`"
   ]
  },
  {
   "cell_type": "code",
   "execution_count": 5,
   "metadata": {},
   "outputs": [
    {
     "data": {
      "text/plain": [
       "<IDX_Calendar.IDX_Calendar at 0x7f9ee6455c70>"
      ]
     },
     "execution_count": 5,
     "metadata": {},
     "output_type": "execute_result"
    }
   ],
   "source": [
    "cal.save_scan_calendar()"
   ]
  }
 ],
 "metadata": {
  "kernelspec": {
   "display_name": "base",
   "language": "python",
   "name": "python3"
  },
  "language_info": {
   "codemirror_mode": {
    "name": "ipython",
    "version": 3
   },
   "file_extension": ".py",
   "mimetype": "text/x-python",
   "name": "python",
   "nbconvert_exporter": "python",
   "pygments_lexer": "ipython3",
   "version": "3.9.12"
  }
 },
 "nbformat": 4,
 "nbformat_minor": 2
}

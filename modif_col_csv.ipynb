{
 "cells": [
  {
   "cell_type": "markdown",
   "metadata": {},
   "source": [
    "# Library"
   ]
  },
  {
   "cell_type": "code",
   "execution_count": 1,
   "metadata": {},
   "outputs": [],
   "source": [
    "import pandas as pd # v 1.1.5"
   ]
  },
  {
   "cell_type": "markdown",
   "metadata": {},
   "source": [
    "# Define"
   ]
  },
  {
   "cell_type": "markdown",
   "metadata": {},
   "source": [
    "## Class Calendar"
   ]
  },
  {
   "cell_type": "code",
   "execution_count": 2,
   "metadata": {},
   "outputs": [],
   "source": [
    "raw_pxdb = 'https://raw.githubusercontent.com/px-db/stock_summary_idx/main/'\n",
    "local = '../'\n",
    "class IDX_Calendar :\n",
    "  def __init__( self,\n",
    "                start_date:str = \"2019\",\n",
    "                end_date:str   = \"9999\",\n",
    "                local:bool = False\n",
    "               ):\n",
    "    if local :\n",
    "      self.full = [str(d) for d in pd.read_csv(local+\"kalender market idx.csv\")['kalender'].tolist()]\n",
    "    else:\n",
    "      self.full = [str(d) for d in pd.read_csv(raw_pxdb+\"kalender%20market%20idx.csv\")['kalender'].tolist()]\n",
    "    self.months = []\n",
    "    self.years = []\n",
    "    self.annually = {}\n",
    "    self.monthly ={}\n",
    "\n",
    "    for i in self.full :\n",
    "      if i[:4] not in self.years :\n",
    "        self.years.append(i[:4])\n",
    "      if i[:6] not in self.years :\n",
    "        self.months.append(i[:6])\n",
    "\n",
    "    # Filtering\n",
    "    x = len(start_date)\n",
    "    if x != len(end_date) and end_date != \"9999\":\n",
    "      end_date += \"12\"\n",
    "    self.filter = list((d for d in self.full if start_date <= d[:x] <= end_date))\n",
    "\n",
    "    for i in self.filter :\n",
    "      if i[:4] in self.annually :\n",
    "        self.annually[i[:4]].append(i)\n",
    "      else :\n",
    "        self.annually[i[:4]] = [i]\n",
    "      if i[:6] in self.monthly:\n",
    "        self.monthly[i[:6]].append(i)\n",
    "      else :\n",
    "        self.monthly[i[:6]] = [i]"
   ]
  },
  {
   "cell_type": "markdown",
   "metadata": {},
   "source": [
    "## Column"
   ]
  },
  {
   "cell_type": "code",
   "execution_count": 3,
   "metadata": {},
   "outputs": [],
   "source": [
    "cols = [\n",
    "  \"Stock Code\",\n",
    "  \"Remarks\",\n",
    "  \"Previous\",\n",
    "  \"Open Price\",\n",
    "  \"Last Trading Date\",\n",
    "  \"High\",\n",
    "  \"Low\",\n",
    "  \"Close\",\n",
    "  \"Change\",\n",
    "  \"Volume\",\n",
    "  \"Value\",\n",
    "  \"Frequency\",\n",
    "]"
   ]
  },
  {
   "cell_type": "code",
   "execution_count": null,
   "metadata": {},
   "outputs": [],
   "source": [
    "#IDX_Calendar(start_date='2019', end_date='2019', local=True).full[92:]"
   ]
  },
  {
   "cell_type": "markdown",
   "metadata": {},
   "source": [
    "# Modif Column"
   ]
  },
  {
   "cell_type": "code",
   "execution_count": 10,
   "metadata": {},
   "outputs": [
    {
     "name": "stdout",
     "output_type": "stream",
     "text": [
      "0123456789/\n",
      "0123456789/\n",
      "0123456789/\n",
      "0123456789/\n",
      "0123456789/\n",
      "0123456789/\n",
      "0123456789/\n",
      "0123456789/\n",
      "0123456789/\n",
      "0123456789/\n",
      "0123456789/\n",
      "0123456789/\n",
      "0123456789/\n",
      "0123456789/\n",
      "0123456789/\n",
      "0123456789/\n",
      "0123456789/\n",
      "0123456789/\n",
      "0123456789/\n",
      "0123456789/\n",
      "0123456789/\n",
      "0123456789/\n",
      "0123456789/\n",
      "0123456789/\n",
      "01234"
     ]
    }
   ],
   "source": [
    "count = 0\n",
    "#file = raw_pxdb+'full_col/' # url\n",
    "file = '../full_col/' # local\n",
    "df = None\n",
    "for d in IDX_Calendar(start_date='2023', end_date='2023').filter :\n",
    "  df=pd.read_csv(f'{file}{d[:4]}/stock_summary_{d}.csv',\n",
    "                                  usecols = cols,\n",
    "                                  index_col = 'Stock Code'\n",
    "                                 ).rename(columns={\n",
    "                                                   'Previous':'Prev',\n",
    "                                                   'Open Price':'Open',\n",
    "                                                   'Last Trading Date':'Date',\n",
    "                                                   'Frequency':'Freq'\n",
    "                                                  }\n",
    "                                          )\n",
    "  df.loc[:,('year')] = d[:4]\n",
    "  df.loc[:,('month')] = d[4:6]                                         \n",
    "                                          \n",
    "  df.to_csv(f'stock_summary_{d}.csv')\n",
    "  \n",
    "  print(f'{count}',end='')\n",
    "  \n",
    "  if count==9 :\n",
    "    count = 0\n",
    "    print('/')\n",
    "    continue\n",
    "  count += 1"
   ]
  }
 ],
 "metadata": {
  "kernelspec": {
   "display_name": "base",
   "language": "python",
   "name": "python3"
  },
  "language_info": {
   "codemirror_mode": {
    "name": "ipython",
    "version": 3
   },
   "file_extension": ".py",
   "mimetype": "text/x-python",
   "name": "python",
   "nbconvert_exporter": "python",
   "pygments_lexer": "ipython3",
   "version": "3.9.12"
  }
 },
 "nbformat": 4,
 "nbformat_minor": 2
}
